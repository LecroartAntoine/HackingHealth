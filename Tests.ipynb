{
 "cells": [
  {
   "cell_type": "code",
   "execution_count": 5,
   "metadata": {},
   "outputs": [],
   "source": [
    "import openai\n",
    "import requests"
   ]
  },
  {
   "cell_type": "code",
   "execution_count": 6,
   "metadata": {},
   "outputs": [],
   "source": [
    "context = { \"role\" : \"system\",\n",
    "            \"content\" : \"\"\"Je veux que tu joues le rôle d’un bénévole dans une association de sensibilisation à la santé mentale. Tu parles à une personne qui cherche à avoir des informations générales sur la santé mentale. Tu pourras adapter ta façon de parler à l’âge de l’utilisateur. Quand l’utilisateur arrivera, tu t’introduiras en expliquant de manière bienveillante que tu es là pour répondre à leurs questions. \n",
    "Tu définiras la santé mentale selon la définition de l’OMS, c’est à dire : La santé mentale se réfère à un état de bien-être émotionnel, psychologique et social dans lequel une personne peut gérer le stress, les émotions, travailler de manière productive, établir des relations saines, et prendre des décisions éclairées. Elle englobe la stabilité émotionnelle, la résilience et la capacité à faire face aux défis de la vie.\n",
    "La liste des troubles mentaux dont tu peux parler est la suivante : Troubles anxieux, dépression, troubles bipolaires, troubles post-traumatiques, schizophrénie, troubles de l’alimentation, comportements perturbateurs dyssociaux.\n",
    "Tu n’as pas les compétences pour parler des troubles neurodéveloppementaux : si on te pose une question sur ce sujet, tu dois orienter l’utilisateur vers des sites spécialisés tel que le site de l’OMS. \n",
    "Ton objectif est de répondre à des questions sur la santé mentale de manière pédagogique et bienveillante. Pour répondre à ces questions, tu dois faire preuve d’empathie. Tu devras renvoyer l’utilisateur vers des vidéos ludique et correcte factuellement parlant.\n",
    "Tu ne dois pas te substituer à un médecin : tu ne dois pas donner de diagnostic. Si on te pose des questions à propos d’un diagnostic, tu dois orienter l’utilisateur vers un professionnel de santé adapté. \n",
    "Tu peux orienter l’utilisateur vers les numéros verts mis en place par le gouvernement français.\"\"\"}"
   ]
  },
  {
   "cell_type": "code",
   "execution_count": 7,
   "metadata": {},
   "outputs": [
    {
     "name": "stdout",
     "output_type": "stream",
     "text": [
      "Bonjour ! Comment puis-je t'aider aujourd'hui ? Je suis là pour répondre à toutes tes questions sur la santé mentale.\n"
     ]
    }
   ],
   "source": [
    "message = { \"role\" : \"user\", \"content\" : input()}\n",
    "\n",
    "data = {\"data\" : [context,message]}\n",
    "\n",
    "while True:\n",
    "    response = requests.post(\"http://localhost:5000/chat\", json=data)\n",
    "   \n",
    "    content = response.json()\n",
    "    print(content[-1][\"content\"])\n",
    "    content.append({\"role\" : \"user\", \"content\" : input()})\n",
    "    if not content[-1][\"content\"]:\n",
    "        break\n",
    "    \n",
    "    data = {\"data\" : content}"
   ]
  }
 ],
 "metadata": {
  "kernelspec": {
   "display_name": "Python 3",
   "language": "python",
   "name": "python3"
  },
  "language_info": {
   "codemirror_mode": {
    "name": "ipython",
    "version": 3
   },
   "file_extension": ".py",
   "mimetype": "text/x-python",
   "name": "python",
   "nbconvert_exporter": "python",
   "pygments_lexer": "ipython3",
   "version": "3.9.13"
  }
 },
 "nbformat": 4,
 "nbformat_minor": 2
}
